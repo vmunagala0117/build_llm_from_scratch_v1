{
 "cells": [
  {
   "cell_type": "markdown",
   "metadata": {},
   "source": [
    "# Appendix / References"
   ]
  },
  {
   "cell_type": "markdown",
   "metadata": {},
   "source": [
    "## nn.Linear"
   ]
  },
  {
   "cell_type": "markdown",
   "metadata": {},
   "source": [
    "<img src=\"./images/ref_nn_linear.png\" width=\"600px\">"
   ]
  },
  {
   "cell_type": "code",
   "execution_count": null,
   "metadata": {},
   "outputs": [
    {
     "name": "stdout",
     "output_type": "stream",
     "text": [
      "linear_layer.weight: Parameter containing:\n",
      "tensor([[-0.1586,  0.5128, -0.0558]], requires_grad=True)\n",
      "linear_layer.bias: Parameter containing:\n",
      "tensor([-0.2695], requires_grad=True)\n",
      "\n",
      " x: tensor([[-2.1950,  0.3459, -2.1259],\n",
      "        [ 0.2402,  0.7662, -0.3857],\n",
      "        [-0.6208, -0.1378, -0.5726],\n",
      "        [ 2.0398, -1.1622, -0.7127],\n",
      "        [ 0.8823, -0.6853, -0.0764]])\n",
      "y: tensor([[ 0.3746],\n",
      "        [ 0.1068],\n",
      "        [-0.2098],\n",
      "        [-1.1493],\n",
      "        [-0.7567]], grad_fn=<AddmmBackward0>)\n"
     ]
    }
   ],
   "source": [
    "import torch\n",
    "import torch.nn as nn\n",
    "\n",
    "# Create a linear layer with 3 input features and 1 output features\n",
    "linear_layer = nn.Linear(in_features=3, out_features=1) \n",
    "\n",
    "print(\"linear_layer.weight:\", linear_layer.weight) # [1, 3]\n",
    "print(\"linear_layer.bias:\", linear_layer.bias) # [1, 1] .. the same bias will be added to \n",
    "\n",
    "# Input tensor\n",
    "x = torch.randn(5, 3)  # 5 samples, 3 features per sample\n",
    "print(\"\\n x:\", x) # [5, 3]\n",
    "\n",
    "# Apply the linear transformation\n",
    "y = linear_layer(x)  # Output tensor: 5 samples, 1 features per sample..  y = x * A(Transpose) + Bias = ([5, 3] * [3, 1]) + [1, 1] == [5 ,1]\n",
    "print(\"y:\", y)"
   ]
  }
 ],
 "metadata": {
  "kernelspec": {
   "display_name": "Python 3",
   "language": "python",
   "name": "python3"
  },
  "language_info": {
   "codemirror_mode": {
    "name": "ipython",
    "version": 3
   },
   "file_extension": ".py",
   "mimetype": "text/x-python",
   "name": "python",
   "nbconvert_exporter": "python",
   "pygments_lexer": "ipython3",
   "version": "3.12.3"
  }
 },
 "nbformat": 4,
 "nbformat_minor": 2
}
